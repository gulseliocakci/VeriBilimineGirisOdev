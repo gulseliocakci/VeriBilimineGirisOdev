{
 "cells": [
  {
   "cell_type": "markdown",
   "metadata": {
    "id": "zUlON4PfKdDG"
   },
   "source": [
    "#### 1- Kütüphanelerin Yüklenmesi"
   ]
  },
  {
   "cell_type": "code",
   "execution_count": 1,
   "metadata": {
    "id": "JdHD0cxkKdDI"
   },
   "outputs": [],
   "source": [
    "import numpy as np ## numpy kütüphanesinin import edilmesi\n",
    "import pandas as pd ## pandas kütüphanesinin import edilmesi\n",
    "import seaborn as sns ## seaborn kütüphanesinin import edilmesi\n",
    "import matplotlib.pyplot as plt ## matplotlip kütüphanesinin import edilmesi\n",
    "import datetime as dt ## datetime kütüphanesinin import edilmesi\n",
    "pd.pandas.set_option('display.max_columns', None) ## dataframein tüm sutunlarının görülmesi için gereken kod"
   ]
  },
  {
   "cell_type": "markdown",
   "metadata": {
    "id": "ByJsAbDMKdDJ"
   },
   "source": [
    "### 2- Verisetinin Yüklenmesi"
   ]
  },
  {
   "cell_type": "code",
   "execution_count": null,
   "metadata": {
    "colab": {
     "base_uri": "https://localhost:8080/"
    },
    "executionInfo": {
     "elapsed": 21091,
     "status": "ok",
     "timestamp": 1760620780702,
     "user": {
      "displayName": "Muhammet Sinan Başarslan",
      "userId": "11112628868347133245"
     },
     "user_tz": -180
    },
    "id": "gKqNCatRK-T8",
    "outputId": "acf85c12-a38c-4e2e-fb5f-9c14055a4d98"
   },
   "outputs": [
    {
     "name": "stdout",
     "output_type": "stream",
     "text": [
      "Mounted at /content/drive\n"
     ]
    }
   ],
   "source": []
  },
  {
   "cell_type": "code",
   "execution_count": null,
   "metadata": {
    "id": "l6G0UDmPK-03"
   },
   "outputs": [],
   "source": []
  },
  {
   "cell_type": "code",
   "execution_count": null,
   "metadata": {
    "collapsed": true,
    "id": "8WoZ6sHaKdDJ",
    "jupyter": {
     "outputs_hidden": true
    },
    "tags": []
   },
   "outputs": [
    {
     "ename": "SyntaxError",
     "evalue": "(unicode error) 'unicodeescape' codec can't decode bytes in position 2-3: truncated \\UXXXXXXXX escape (2647484900.py, line 2)",
     "output_type": "error",
     "traceback": [
      "  \u001b[36mCell\u001b[39m\u001b[36m \u001b[39m\u001b[32mIn[2]\u001b[39m\u001b[32m, line 2\u001b[39m\n\u001b[31m    \u001b[39m\u001b[31mdata = pd.read_excel(\"C:\\Users\\Gülseli\\Downloads\\MarketSales.xlsx\")\u001b[39m\n                         ^\n\u001b[31mSyntaxError\u001b[39m\u001b[31m:\u001b[39m (unicode error) 'unicodeescape' codec can't decode bytes in position 2-3: truncated \\UXXXXXXXX escape\n"
     ]
    }
   ],
   "source": [
    "### Veri Çok fazla olduğundan biraz zaman alabilir.\n",
    "data = pd.read_excel(\"C:/Users/Gülseli/Downloads/MarketSales.xlsx\")"
   ]
  },
  {
   "cell_type": "code",
   "execution_count": null,
   "metadata": {
    "id": "quICxC6eN32p"
   },
   "outputs": [],
   "source": [
    "data.head()"
   ]
  },
  {
   "cell_type": "code",
   "execution_count": null,
   "metadata": {
    "id": "gptfgwSQKdDK"
   },
   "outputs": [],
   "source": [
    "data.head(2)"
   ]
  },
  {
   "cell_type": "markdown",
   "metadata": {
    "id": "Um5vuQIwKdDK"
   },
   "source": [
    "### 3- Verisetinin Orjinalınde değişiklik gelmemesei için veriyi başka bir değişkene atayın"
   ]
  },
  {
   "cell_type": "code",
   "execution_count": null,
   "metadata": {
    "id": "6npKpr-sbY9p"
   },
   "outputs": [],
   "source": []
  },
  {
   "cell_type": "markdown",
   "metadata": {
    "id": "f3h7UlgvKdDK"
   },
   "source": [
    "### 4-Verisetinin Boyutlarına bulunuz"
   ]
  },
  {
   "cell_type": "code",
   "execution_count": null,
   "metadata": {
    "id": "b_N9k2_lbZs9"
   },
   "outputs": [],
   "source": []
  },
  {
   "cell_type": "markdown",
   "metadata": {
    "id": "nfW3_CSoKdDL"
   },
   "source": [
    "### 5-Verisetinin Sutunlarının İsimlerini Yazdırın"
   ]
  },
  {
   "cell_type": "code",
   "execution_count": null,
   "metadata": {
    "id": "bsAbI0PNbawL"
   },
   "outputs": [],
   "source": []
  },
  {
   "cell_type": "markdown",
   "metadata": {
    "id": "bptBn-UWKdDL"
   },
   "source": [
    "### 6- Veri setinin bilgilerine ulaşılması"
   ]
  },
  {
   "cell_type": "code",
   "execution_count": null,
   "metadata": {
    "id": "85eIrov9bb8R"
   },
   "outputs": [],
   "source": []
  },
  {
   "cell_type": "markdown",
   "metadata": {
    "id": "m1WLrGyjKdDL"
   },
   "source": [
    "### 7- Veri Setinde Boş Değer Varmı sorgulanması"
   ]
  },
  {
   "cell_type": "code",
   "execution_count": null,
   "metadata": {
    "id": "PK9QFSIFbdJl"
   },
   "outputs": [],
   "source": []
  },
  {
   "cell_type": "markdown",
   "metadata": {
    "id": "dWFLNHnkKdDL"
   },
   "source": [
    "### 8- Verisetindeki Sutunlarda Toplam Kaç Adet Değer Var Bulunuz"
   ]
  },
  {
   "cell_type": "code",
   "execution_count": null,
   "metadata": {
    "id": "Xebc6rVhbeRN"
   },
   "outputs": [],
   "source": []
  },
  {
   "cell_type": "markdown",
   "metadata": {
    "id": "reasmdptKdDL"
   },
   "source": [
    "### 9- Verisetinde Toplam Kaç Adet Değer Var Bulunuz"
   ]
  },
  {
   "cell_type": "code",
   "execution_count": null,
   "metadata": {
    "id": "SuKPbhbTbfRh"
   },
   "outputs": [],
   "source": []
  },
  {
   "cell_type": "code",
   "execution_count": null,
   "metadata": {
    "id": "Z3eb1ioVbfJh"
   },
   "outputs": [],
   "source": []
  },
  {
   "cell_type": "markdown",
   "metadata": {
    "id": "49l1ia6vKdDM"
   },
   "source": [
    "### 10- Verisetinde Boş Değer Olan Sutunların İsimlerini yazdıralım"
   ]
  },
  {
   "cell_type": "code",
   "execution_count": null,
   "metadata": {
    "id": "R_XbKN4vbgcx"
   },
   "outputs": [],
   "source": []
  },
  {
   "cell_type": "markdown",
   "metadata": {
    "id": "s-eT195SKdDM"
   },
   "source": [
    "### 11-Verisetinin Sutunlarında Kaç farklı Tip var Onu Bulalım"
   ]
  },
  {
   "cell_type": "code",
   "execution_count": null,
   "metadata": {
    "id": "SB34Ww2lbiQh"
   },
   "outputs": [],
   "source": []
  },
  {
   "cell_type": "markdown",
   "metadata": {
    "id": "x963H1uPKdDM"
   },
   "source": [
    "### 12- Verisetinin Sutunlarındaki Eşsiz Tipler Nelerdir Onlara Bakalım"
   ]
  },
  {
   "cell_type": "code",
   "execution_count": null,
   "metadata": {
    "id": "Lu-lxjvJbj9-"
   },
   "outputs": [],
   "source": []
  },
  {
   "cell_type": "markdown",
   "metadata": {
    "id": "8fe1ThNmKdDM"
   },
   "source": [
    "### 13-Verisetinin İlk 5 Satırını Yazdıralım"
   ]
  },
  {
   "cell_type": "code",
   "execution_count": null,
   "metadata": {
    "id": "ghhKnIPKbljt"
   },
   "outputs": [],
   "source": []
  },
  {
   "cell_type": "markdown",
   "metadata": {
    "id": "xj4vrYixKdDM"
   },
   "source": [
    "### 14-Verisetinin son 7 Satırını Yazdıralım"
   ]
  },
  {
   "cell_type": "code",
   "execution_count": null,
   "metadata": {
    "id": "OzEJwSz9bnCN"
   },
   "outputs": [],
   "source": []
  },
  {
   "cell_type": "markdown",
   "metadata": {
    "id": "lmgX2Jw5KdDM"
   },
   "source": [
    "### 15- Verisetinde her satır için AMOUNT PRICE LINENETTOTAL sutunlarına ait bilgileri yazdıralım"
   ]
  },
  {
   "cell_type": "code",
   "execution_count": null,
   "metadata": {
    "id": "QbeUpwy6bpRx"
   },
   "outputs": [],
   "source": []
  },
  {
   "cell_type": "markdown",
   "metadata": {
    "id": "pWdDiDu8KdDN"
   },
   "source": [
    "### 16- Verisetinde LINENETTOTAL sutunda 15 den büyük olan satırları yazdıralım"
   ]
  },
  {
   "cell_type": "code",
   "execution_count": null,
   "metadata": {
    "id": "E6eyhTG-bszN"
   },
   "outputs": [],
   "source": []
  },
  {
   "cell_type": "markdown",
   "metadata": {
    "id": "7hIzFmslKdDN"
   },
   "source": [
    "### 17- Verisetinde BRANCH ı Balıkesir Subesi olan satırları bulalım"
   ]
  },
  {
   "cell_type": "code",
   "execution_count": null,
   "metadata": {
    "id": "ygGXjVqPbvJ5"
   },
   "outputs": [],
   "source": []
  }
 ],
 "metadata": {
  "colab": {
   "provenance": []
  },
  "kernelspec": {
   "display_name": "Python 3",
   "language": "python",
   "name": "python3"
  },
  "language_info": {
   "codemirror_mode": {
    "name": "ipython",
    "version": 3
   },
   "file_extension": ".py",
   "mimetype": "text/x-python",
   "name": "python",
   "nbconvert_exporter": "python",
   "pygments_lexer": "ipython3",
   "version": "3.12.4"
  }
 },
 "nbformat": 4,
 "nbformat_minor": 0
}
