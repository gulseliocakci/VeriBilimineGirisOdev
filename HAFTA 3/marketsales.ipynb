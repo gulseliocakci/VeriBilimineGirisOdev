{
 "cells": [
  {
   "cell_type": "markdown",
   "metadata": {
    "id": "zUlON4PfKdDG"
   },
   "source": [
    "#### 1- Kütüphanelerin Yüklenmesi"
   ]
  },
  {
   "cell_type": "code",
   "execution_count": 1,
   "metadata": {
    "id": "JdHD0cxkKdDI"
   },
   "outputs": [],
   "source": [
    "import numpy as np ## numpy kütüphanesinin import edilmesi\n",
    "import pandas as pd ## pandas kütüphanesinin import edilmesi\n",
    "import seaborn as sns ## seaborn kütüphanesinin import edilmesi\n",
    "import matplotlib.pyplot as plt ## matplotlip kütüphanesinin import edilmesi\n",
    "import datetime as dt ## datetime kütüphanesinin import edilmesi\n",
    "pd.pandas.set_option('display.max_columns', None) ## dataframein tüm sutunlarının görülmesi için gereken kod"
   ]
  },
  {
   "cell_type": "markdown",
   "metadata": {
    "id": "ByJsAbDMKdDJ"
   },
   "source": [
    "### 2- Verisetinin Yüklenmesi"
   ]
  },
  {
   "cell_type": "code",
   "execution_count": null,
   "metadata": {
    "colab": {
     "base_uri": "https://localhost:8080/"
    },
    "executionInfo": {
     "elapsed": 21091,
     "status": "ok",
     "timestamp": 1760620780702,
     "user": {
      "displayName": "Muhammet Sinan Başarslan",
      "userId": "11112628868347133245"
     },
     "user_tz": -180
    },
    "id": "gKqNCatRK-T8",
    "outputId": "acf85c12-a38c-4e2e-fb5f-9c14055a4d98"
   },
   "outputs": [
    {
     "name": "stdout",
     "output_type": "stream",
     "text": [
      "Mounted at /content/drive\n"
     ]
    }
   ],
   "source": []
  },
  {
   "cell_type": "code",
   "execution_count": null,
   "metadata": {
    "id": "l6G0UDmPK-03"
   },
   "outputs": [],
   "source": []
  },
  {
   "cell_type": "code",
   "execution_count": null,
   "metadata": {
    "collapsed": true,
    "id": "8WoZ6sHaKdDJ",
    "jupyter": {
     "outputs_hidden": true
    },
    "tags": []
   },
   "outputs": [],
   "source": [
    "### Veri Çok fazla olduğundan biraz zaman alabilir.\n",
    "data = pd.read_excel(\"C:/Users/Gülseli/Downloads/MarketSales.xlsx\")"
   ]
  },
  {
   "cell_type": "code",
   "execution_count": 4,
   "metadata": {
    "id": "quICxC6eN32p"
   },
   "outputs": [
    {
     "data": {
      "text/html": [
       "<div>\n",
       "<style scoped>\n",
       "    .dataframe tbody tr th:only-of-type {\n",
       "        vertical-align: middle;\n",
       "    }\n",
       "\n",
       "    .dataframe tbody tr th {\n",
       "        vertical-align: top;\n",
       "    }\n",
       "\n",
       "    .dataframe thead th {\n",
       "        text-align: right;\n",
       "    }\n",
       "</style>\n",
       "<table border=\"1\" class=\"dataframe\">\n",
       "  <thead>\n",
       "    <tr style=\"text-align: right;\">\n",
       "      <th></th>\n",
       "      <th>ID</th>\n",
       "      <th>ITEMCODE</th>\n",
       "      <th>ITEMNAME</th>\n",
       "      <th>FICHENO</th>\n",
       "      <th>DATE_</th>\n",
       "      <th>AMOUNT</th>\n",
       "      <th>PRICE</th>\n",
       "      <th>LINENETTOTAL</th>\n",
       "      <th>LINENET</th>\n",
       "      <th>BRANCHNR</th>\n",
       "      <th>BRANCH</th>\n",
       "      <th>SALESMAN</th>\n",
       "      <th>CITY</th>\n",
       "      <th>REGION</th>\n",
       "      <th>LATITUDE</th>\n",
       "      <th>LONGITUDE</th>\n",
       "      <th>CLIENTCODE</th>\n",
       "      <th>CLIENTNAME</th>\n",
       "      <th>BRANDCODE</th>\n",
       "      <th>BRAND</th>\n",
       "      <th>CATEGORY_NAME1</th>\n",
       "      <th>CATEGORY_NAME2</th>\n",
       "      <th>CATEGORY_NAME3</th>\n",
       "      <th>STARTDATE</th>\n",
       "      <th>ENDDATE</th>\n",
       "      <th>GENDER</th>\n",
       "    </tr>\n",
       "  </thead>\n",
       "  <tbody>\n",
       "    <tr>\n",
       "      <th>0</th>\n",
       "      <td>11738.0</td>\n",
       "      <td>5863.0</td>\n",
       "      <td>SPRITE 1 LT LIMON AROMALI GAZOZ</td>\n",
       "      <td>18456</td>\n",
       "      <td>2017-01-07</td>\n",
       "      <td>1.0</td>\n",
       "      <td>2.00</td>\n",
       "      <td>2.00</td>\n",
       "      <td>1.85</td>\n",
       "      <td>52.0</td>\n",
       "      <td>Kocaeli Subesi</td>\n",
       "      <td>Eyüp CİNE</td>\n",
       "      <td>Kocaeli</td>\n",
       "      <td>Marmara</td>\n",
       "      <td>40.8533</td>\n",
       "      <td>29.8815</td>\n",
       "      <td>467369</td>\n",
       "      <td>Sercan KIZILOK</td>\n",
       "      <td>156</td>\n",
       "      <td>SPRİTE</td>\n",
       "      <td>İÇECEK</td>\n",
       "      <td>GAZLI İÇECEK</td>\n",
       "      <td>GAZOZ</td>\n",
       "      <td>2017-01-08 16:16:11</td>\n",
       "      <td>2017-01-08 16:17:13</td>\n",
       "      <td>E</td>\n",
       "    </tr>\n",
       "    <tr>\n",
       "      <th>1</th>\n",
       "      <td>10537.0</td>\n",
       "      <td>8.0</td>\n",
       "      <td>TOZ SEKER</td>\n",
       "      <td>18105</td>\n",
       "      <td>2017-01-06</td>\n",
       "      <td>5.0</td>\n",
       "      <td>2.65</td>\n",
       "      <td>13.25</td>\n",
       "      <td>12.27</td>\n",
       "      <td>8.0</td>\n",
       "      <td>Antalya Subesi</td>\n",
       "      <td>İlhan ÖRENLİ</td>\n",
       "      <td>Antalya</td>\n",
       "      <td>Akdeniz</td>\n",
       "      <td>36.8841</td>\n",
       "      <td>30.7056</td>\n",
       "      <td>131464</td>\n",
       "      <td>İsmet ŞINGIR</td>\n",
       "      <td>NaN</td>\n",
       "      <td>NaN</td>\n",
       "      <td>İÇECEK</td>\n",
       "      <td>ÇAY KAHVE</td>\n",
       "      <td>SEKER TATLANDIRICI</td>\n",
       "      <td>2017-01-07 11:04:34</td>\n",
       "      <td>2017-01-07 11:05:37</td>\n",
       "      <td>E</td>\n",
       "    </tr>\n",
       "    <tr>\n",
       "      <th>2</th>\n",
       "      <td>11335.0</td>\n",
       "      <td>5979.0</td>\n",
       "      <td>FALIM SAKIZ 5LI NANE</td>\n",
       "      <td>18350</td>\n",
       "      <td>2017-01-03</td>\n",
       "      <td>1.0</td>\n",
       "      <td>0.40</td>\n",
       "      <td>0.40</td>\n",
       "      <td>0.37</td>\n",
       "      <td>40.0</td>\n",
       "      <td>İstanbul Subesi</td>\n",
       "      <td>İsmet SARTIK</td>\n",
       "      <td>İstanbul</td>\n",
       "      <td>Marmara</td>\n",
       "      <td>41.0053</td>\n",
       "      <td>28.9770</td>\n",
       "      <td>656969</td>\n",
       "      <td>Yağız KUBAL</td>\n",
       "      <td>300</td>\n",
       "      <td>FALIM</td>\n",
       "      <td>GIDA</td>\n",
       "      <td>SAKIZ SEKERLEME</td>\n",
       "      <td>SAKIZ</td>\n",
       "      <td>2017-01-04 14:00:03</td>\n",
       "      <td>2017-01-04 14:01:01</td>\n",
       "      <td>E</td>\n",
       "    </tr>\n",
       "    <tr>\n",
       "      <th>3</th>\n",
       "      <td>11336.0</td>\n",
       "      <td>5979.0</td>\n",
       "      <td>FALIM SAKIZ 5LI NANE</td>\n",
       "      <td>18350</td>\n",
       "      <td>2017-01-03</td>\n",
       "      <td>1.0</td>\n",
       "      <td>0.40</td>\n",
       "      <td>0.40</td>\n",
       "      <td>0.37</td>\n",
       "      <td>40.0</td>\n",
       "      <td>İstanbul Subesi</td>\n",
       "      <td>İsmet SARTIK</td>\n",
       "      <td>İstanbul</td>\n",
       "      <td>Marmara</td>\n",
       "      <td>41.0053</td>\n",
       "      <td>28.9770</td>\n",
       "      <td>656969</td>\n",
       "      <td>Yağız KUBAL</td>\n",
       "      <td>300</td>\n",
       "      <td>FALIM</td>\n",
       "      <td>GIDA</td>\n",
       "      <td>SAKIZ SEKERLEME</td>\n",
       "      <td>SAKIZ</td>\n",
       "      <td>2017-01-04 14:00:03</td>\n",
       "      <td>2017-01-04 14:01:01</td>\n",
       "      <td>E</td>\n",
       "    </tr>\n",
       "    <tr>\n",
       "      <th>4</th>\n",
       "      <td>10115.0</td>\n",
       "      <td>12808.0</td>\n",
       "      <td>FALIM SAKIZ 5LI CILEK</td>\n",
       "      <td>18005</td>\n",
       "      <td>2017-01-05</td>\n",
       "      <td>1.0</td>\n",
       "      <td>0.40</td>\n",
       "      <td>0.40</td>\n",
       "      <td>0.37</td>\n",
       "      <td>41.0</td>\n",
       "      <td>İzmir Subesi</td>\n",
       "      <td>Gülten IŞLAK</td>\n",
       "      <td>İzmir</td>\n",
       "      <td>Ege</td>\n",
       "      <td>38.4189</td>\n",
       "      <td>27.1287</td>\n",
       "      <td>447336</td>\n",
       "      <td>Habibe AYSAN</td>\n",
       "      <td>300</td>\n",
       "      <td>FALIM</td>\n",
       "      <td>GIDA</td>\n",
       "      <td>SAKIZ SEKERLEME</td>\n",
       "      <td>SAKIZ</td>\n",
       "      <td>2017-01-06 14:00:30</td>\n",
       "      <td>2017-01-06 14:01:03</td>\n",
       "      <td>K</td>\n",
       "    </tr>\n",
       "  </tbody>\n",
       "</table>\n",
       "</div>"
      ],
      "text/plain": [
       "        ID  ITEMCODE                         ITEMNAME  FICHENO      DATE_  \\\n",
       "0  11738.0    5863.0  SPRITE 1 LT LIMON AROMALI GAZOZ    18456 2017-01-07   \n",
       "1  10537.0       8.0                        TOZ SEKER    18105 2017-01-06   \n",
       "2  11335.0    5979.0             FALIM SAKIZ 5LI NANE    18350 2017-01-03   \n",
       "3  11336.0    5979.0             FALIM SAKIZ 5LI NANE    18350 2017-01-03   \n",
       "4  10115.0   12808.0            FALIM SAKIZ 5LI CILEK    18005 2017-01-05   \n",
       "\n",
       "   AMOUNT  PRICE  LINENETTOTAL  LINENET  BRANCHNR           BRANCH  \\\n",
       "0     1.0   2.00          2.00     1.85      52.0   Kocaeli Subesi   \n",
       "1     5.0   2.65         13.25    12.27       8.0   Antalya Subesi   \n",
       "2     1.0   0.40          0.40     0.37      40.0  İstanbul Subesi   \n",
       "3     1.0   0.40          0.40     0.37      40.0  İstanbul Subesi   \n",
       "4     1.0   0.40          0.40     0.37      41.0     İzmir Subesi   \n",
       "\n",
       "       SALESMAN      CITY   REGION  LATITUDE  LONGITUDE CLIENTCODE  \\\n",
       "0     Eyüp CİNE   Kocaeli  Marmara   40.8533    29.8815     467369   \n",
       "1  İlhan ÖRENLİ   Antalya  Akdeniz   36.8841    30.7056     131464   \n",
       "2  İsmet SARTIK  İstanbul  Marmara   41.0053    28.9770     656969   \n",
       "3  İsmet SARTIK  İstanbul  Marmara   41.0053    28.9770     656969   \n",
       "4  Gülten IŞLAK     İzmir      Ege   38.4189    27.1287     447336   \n",
       "\n",
       "       CLIENTNAME BRANDCODE   BRAND CATEGORY_NAME1   CATEGORY_NAME2  \\\n",
       "0  Sercan KIZILOK       156  SPRİTE         İÇECEK     GAZLI İÇECEK   \n",
       "1    İsmet ŞINGIR       NaN     NaN         İÇECEK        ÇAY KAHVE   \n",
       "2     Yağız KUBAL       300   FALIM           GIDA  SAKIZ SEKERLEME   \n",
       "3     Yağız KUBAL       300   FALIM           GIDA  SAKIZ SEKERLEME   \n",
       "4    Habibe AYSAN       300   FALIM           GIDA  SAKIZ SEKERLEME   \n",
       "\n",
       "       CATEGORY_NAME3           STARTDATE             ENDDATE GENDER  \n",
       "0               GAZOZ 2017-01-08 16:16:11 2017-01-08 16:17:13      E  \n",
       "1  SEKER TATLANDIRICI 2017-01-07 11:04:34 2017-01-07 11:05:37      E  \n",
       "2               SAKIZ 2017-01-04 14:00:03 2017-01-04 14:01:01      E  \n",
       "3               SAKIZ 2017-01-04 14:00:03 2017-01-04 14:01:01      E  \n",
       "4               SAKIZ 2017-01-06 14:00:30 2017-01-06 14:01:03      K  "
      ]
     },
     "execution_count": 4,
     "metadata": {},
     "output_type": "execute_result"
    }
   ],
   "source": [
    "data.head()"
   ]
  },
  {
   "cell_type": "code",
   "execution_count": 5,
   "metadata": {
    "id": "gptfgwSQKdDK"
   },
   "outputs": [
    {
     "data": {
      "text/html": [
       "<div>\n",
       "<style scoped>\n",
       "    .dataframe tbody tr th:only-of-type {\n",
       "        vertical-align: middle;\n",
       "    }\n",
       "\n",
       "    .dataframe tbody tr th {\n",
       "        vertical-align: top;\n",
       "    }\n",
       "\n",
       "    .dataframe thead th {\n",
       "        text-align: right;\n",
       "    }\n",
       "</style>\n",
       "<table border=\"1\" class=\"dataframe\">\n",
       "  <thead>\n",
       "    <tr style=\"text-align: right;\">\n",
       "      <th></th>\n",
       "      <th>ID</th>\n",
       "      <th>ITEMCODE</th>\n",
       "      <th>ITEMNAME</th>\n",
       "      <th>FICHENO</th>\n",
       "      <th>DATE_</th>\n",
       "      <th>AMOUNT</th>\n",
       "      <th>PRICE</th>\n",
       "      <th>LINENETTOTAL</th>\n",
       "      <th>LINENET</th>\n",
       "      <th>BRANCHNR</th>\n",
       "      <th>BRANCH</th>\n",
       "      <th>SALESMAN</th>\n",
       "      <th>CITY</th>\n",
       "      <th>REGION</th>\n",
       "      <th>LATITUDE</th>\n",
       "      <th>LONGITUDE</th>\n",
       "      <th>CLIENTCODE</th>\n",
       "      <th>CLIENTNAME</th>\n",
       "      <th>BRANDCODE</th>\n",
       "      <th>BRAND</th>\n",
       "      <th>CATEGORY_NAME1</th>\n",
       "      <th>CATEGORY_NAME2</th>\n",
       "      <th>CATEGORY_NAME3</th>\n",
       "      <th>STARTDATE</th>\n",
       "      <th>ENDDATE</th>\n",
       "      <th>GENDER</th>\n",
       "    </tr>\n",
       "  </thead>\n",
       "  <tbody>\n",
       "    <tr>\n",
       "      <th>0</th>\n",
       "      <td>11738.0</td>\n",
       "      <td>5863.0</td>\n",
       "      <td>SPRITE 1 LT LIMON AROMALI GAZOZ</td>\n",
       "      <td>18456</td>\n",
       "      <td>2017-01-07</td>\n",
       "      <td>1.0</td>\n",
       "      <td>2.00</td>\n",
       "      <td>2.00</td>\n",
       "      <td>1.85</td>\n",
       "      <td>52.0</td>\n",
       "      <td>Kocaeli Subesi</td>\n",
       "      <td>Eyüp CİNE</td>\n",
       "      <td>Kocaeli</td>\n",
       "      <td>Marmara</td>\n",
       "      <td>40.8533</td>\n",
       "      <td>29.8815</td>\n",
       "      <td>467369</td>\n",
       "      <td>Sercan KIZILOK</td>\n",
       "      <td>156</td>\n",
       "      <td>SPRİTE</td>\n",
       "      <td>İÇECEK</td>\n",
       "      <td>GAZLI İÇECEK</td>\n",
       "      <td>GAZOZ</td>\n",
       "      <td>2017-01-08 16:16:11</td>\n",
       "      <td>2017-01-08 16:17:13</td>\n",
       "      <td>E</td>\n",
       "    </tr>\n",
       "    <tr>\n",
       "      <th>1</th>\n",
       "      <td>10537.0</td>\n",
       "      <td>8.0</td>\n",
       "      <td>TOZ SEKER</td>\n",
       "      <td>18105</td>\n",
       "      <td>2017-01-06</td>\n",
       "      <td>5.0</td>\n",
       "      <td>2.65</td>\n",
       "      <td>13.25</td>\n",
       "      <td>12.27</td>\n",
       "      <td>8.0</td>\n",
       "      <td>Antalya Subesi</td>\n",
       "      <td>İlhan ÖRENLİ</td>\n",
       "      <td>Antalya</td>\n",
       "      <td>Akdeniz</td>\n",
       "      <td>36.8841</td>\n",
       "      <td>30.7056</td>\n",
       "      <td>131464</td>\n",
       "      <td>İsmet ŞINGIR</td>\n",
       "      <td>NaN</td>\n",
       "      <td>NaN</td>\n",
       "      <td>İÇECEK</td>\n",
       "      <td>ÇAY KAHVE</td>\n",
       "      <td>SEKER TATLANDIRICI</td>\n",
       "      <td>2017-01-07 11:04:34</td>\n",
       "      <td>2017-01-07 11:05:37</td>\n",
       "      <td>E</td>\n",
       "    </tr>\n",
       "  </tbody>\n",
       "</table>\n",
       "</div>"
      ],
      "text/plain": [
       "        ID  ITEMCODE                         ITEMNAME  FICHENO      DATE_  \\\n",
       "0  11738.0    5863.0  SPRITE 1 LT LIMON AROMALI GAZOZ    18456 2017-01-07   \n",
       "1  10537.0       8.0                        TOZ SEKER    18105 2017-01-06   \n",
       "\n",
       "   AMOUNT  PRICE  LINENETTOTAL  LINENET  BRANCHNR          BRANCH  \\\n",
       "0     1.0   2.00          2.00     1.85      52.0  Kocaeli Subesi   \n",
       "1     5.0   2.65         13.25    12.27       8.0  Antalya Subesi   \n",
       "\n",
       "       SALESMAN     CITY   REGION  LATITUDE  LONGITUDE CLIENTCODE  \\\n",
       "0     Eyüp CİNE  Kocaeli  Marmara   40.8533    29.8815     467369   \n",
       "1  İlhan ÖRENLİ  Antalya  Akdeniz   36.8841    30.7056     131464   \n",
       "\n",
       "       CLIENTNAME BRANDCODE   BRAND CATEGORY_NAME1 CATEGORY_NAME2  \\\n",
       "0  Sercan KIZILOK       156  SPRİTE         İÇECEK   GAZLI İÇECEK   \n",
       "1    İsmet ŞINGIR       NaN     NaN         İÇECEK      ÇAY KAHVE   \n",
       "\n",
       "       CATEGORY_NAME3           STARTDATE             ENDDATE GENDER  \n",
       "0               GAZOZ 2017-01-08 16:16:11 2017-01-08 16:17:13      E  \n",
       "1  SEKER TATLANDIRICI 2017-01-07 11:04:34 2017-01-07 11:05:37      E  "
      ]
     },
     "execution_count": 5,
     "metadata": {},
     "output_type": "execute_result"
    }
   ],
   "source": [
    "data.head(2)"
   ]
  },
  {
   "cell_type": "markdown",
   "metadata": {
    "id": "Um5vuQIwKdDK"
   },
   "source": [
    "### 3- Verisetinin Orjinalınde değişiklik gelmemesei için veriyi başka bir değişkene atayın"
   ]
  },
  {
   "cell_type": "code",
   "execution_count": null,
   "metadata": {
    "id": "6npKpr-sbY9p"
   },
   "outputs": [],
   "source": []
  },
  {
   "cell_type": "markdown",
   "metadata": {
    "id": "f3h7UlgvKdDK"
   },
   "source": [
    "### 4-Verisetinin Boyutlarına bulunuz"
   ]
  },
  {
   "cell_type": "code",
   "execution_count": null,
   "metadata": {
    "id": "b_N9k2_lbZs9"
   },
   "outputs": [],
   "source": []
  },
  {
   "cell_type": "markdown",
   "metadata": {
    "id": "nfW3_CSoKdDL"
   },
   "source": [
    "### 5-Verisetinin Sutunlarının İsimlerini Yazdırın"
   ]
  },
  {
   "cell_type": "code",
   "execution_count": null,
   "metadata": {
    "id": "bsAbI0PNbawL"
   },
   "outputs": [],
   "source": []
  },
  {
   "cell_type": "markdown",
   "metadata": {
    "id": "bptBn-UWKdDL"
   },
   "source": [
    "### 6- Veri setinin bilgilerine ulaşılması"
   ]
  },
  {
   "cell_type": "code",
   "execution_count": null,
   "metadata": {
    "id": "85eIrov9bb8R"
   },
   "outputs": [],
   "source": []
  },
  {
   "cell_type": "markdown",
   "metadata": {
    "id": "m1WLrGyjKdDL"
   },
   "source": [
    "### 7- Veri Setinde Boş Değer Varmı sorgulanması"
   ]
  },
  {
   "cell_type": "code",
   "execution_count": null,
   "metadata": {
    "id": "PK9QFSIFbdJl"
   },
   "outputs": [],
   "source": []
  },
  {
   "cell_type": "markdown",
   "metadata": {
    "id": "dWFLNHnkKdDL"
   },
   "source": [
    "### 8- Verisetindeki Sutunlarda Toplam Kaç Adet Değer Var Bulunuz"
   ]
  },
  {
   "cell_type": "code",
   "execution_count": null,
   "metadata": {
    "id": "Xebc6rVhbeRN"
   },
   "outputs": [],
   "source": []
  },
  {
   "cell_type": "markdown",
   "metadata": {
    "id": "reasmdptKdDL"
   },
   "source": [
    "### 9- Verisetinde Toplam Kaç Adet Değer Var Bulunuz"
   ]
  },
  {
   "cell_type": "code",
   "execution_count": null,
   "metadata": {
    "id": "SuKPbhbTbfRh"
   },
   "outputs": [],
   "source": []
  },
  {
   "cell_type": "code",
   "execution_count": null,
   "metadata": {
    "id": "Z3eb1ioVbfJh"
   },
   "outputs": [],
   "source": []
  },
  {
   "cell_type": "markdown",
   "metadata": {
    "id": "49l1ia6vKdDM"
   },
   "source": [
    "### 10- Verisetinde Boş Değer Olan Sutunların İsimlerini yazdıralım"
   ]
  },
  {
   "cell_type": "code",
   "execution_count": null,
   "metadata": {
    "id": "R_XbKN4vbgcx"
   },
   "outputs": [],
   "source": []
  },
  {
   "cell_type": "markdown",
   "metadata": {
    "id": "s-eT195SKdDM"
   },
   "source": [
    "### 11-Verisetinin Sutunlarında Kaç farklı Tip var Onu Bulalım"
   ]
  },
  {
   "cell_type": "code",
   "execution_count": null,
   "metadata": {
    "id": "SB34Ww2lbiQh"
   },
   "outputs": [],
   "source": []
  },
  {
   "cell_type": "markdown",
   "metadata": {
    "id": "x963H1uPKdDM"
   },
   "source": [
    "### 12- Verisetinin Sutunlarındaki Eşsiz Tipler Nelerdir Onlara Bakalım"
   ]
  },
  {
   "cell_type": "code",
   "execution_count": null,
   "metadata": {
    "id": "Lu-lxjvJbj9-"
   },
   "outputs": [],
   "source": []
  },
  {
   "cell_type": "markdown",
   "metadata": {
    "id": "8fe1ThNmKdDM"
   },
   "source": [
    "### 13-Verisetinin İlk 5 Satırını Yazdıralım"
   ]
  },
  {
   "cell_type": "code",
   "execution_count": null,
   "metadata": {
    "id": "ghhKnIPKbljt"
   },
   "outputs": [],
   "source": []
  },
  {
   "cell_type": "markdown",
   "metadata": {
    "id": "xj4vrYixKdDM"
   },
   "source": [
    "### 14-Verisetinin son 7 Satırını Yazdıralım"
   ]
  },
  {
   "cell_type": "code",
   "execution_count": null,
   "metadata": {
    "id": "OzEJwSz9bnCN"
   },
   "outputs": [],
   "source": []
  },
  {
   "cell_type": "markdown",
   "metadata": {
    "id": "lmgX2Jw5KdDM"
   },
   "source": [
    "### 15- Verisetinde her satır için AMOUNT PRICE LINENETTOTAL sutunlarına ait bilgileri yazdıralım"
   ]
  },
  {
   "cell_type": "code",
   "execution_count": null,
   "metadata": {
    "id": "QbeUpwy6bpRx"
   },
   "outputs": [],
   "source": []
  },
  {
   "cell_type": "markdown",
   "metadata": {
    "id": "pWdDiDu8KdDN"
   },
   "source": [
    "### 16- Verisetinde LINENETTOTAL sutunda 15 den büyük olan satırları yazdıralım"
   ]
  },
  {
   "cell_type": "code",
   "execution_count": null,
   "metadata": {
    "id": "E6eyhTG-bszN"
   },
   "outputs": [],
   "source": []
  },
  {
   "cell_type": "markdown",
   "metadata": {
    "id": "7hIzFmslKdDN"
   },
   "source": [
    "### 17- Verisetinde BRANCH ı Balıkesir Subesi olan satırları bulalım"
   ]
  },
  {
   "cell_type": "code",
   "execution_count": null,
   "metadata": {
    "id": "ygGXjVqPbvJ5"
   },
   "outputs": [],
   "source": []
  }
 ],
 "metadata": {
  "colab": {
   "provenance": []
  },
  "kernelspec": {
   "display_name": "Python 3",
   "language": "python",
   "name": "python3"
  },
  "language_info": {
   "codemirror_mode": {
    "name": "ipython",
    "version": 3
   },
   "file_extension": ".py",
   "mimetype": "text/x-python",
   "name": "python",
   "nbconvert_exporter": "python",
   "pygments_lexer": "ipython3",
   "version": "3.12.4"
  }
 },
 "nbformat": 4,
 "nbformat_minor": 0
}
